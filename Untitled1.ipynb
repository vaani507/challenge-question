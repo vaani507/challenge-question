{
  "nbformat": 4,
  "nbformat_minor": 0,
  "metadata": {
    "colab": {
      "provenance": [],
      "authorship_tag": "ABX9TyP5ksN1RcA5NzP0QLmoi5fA",
      "include_colab_link": true
    },
    "kernelspec": {
      "name": "python3",
      "display_name": "Python 3"
    },
    "language_info": {
      "name": "python"
    }
  },
  "cells": [
    {
      "cell_type": "markdown",
      "metadata": {
        "id": "view-in-github",
        "colab_type": "text"
      },
      "source": [
        "<a href=\"https://colab.research.google.com/github/vaani507/challenge-question/blob/main/Untitled1.ipynb\" target=\"_parent\"><img src=\"https://colab.research.google.com/assets/colab-badge.svg\" alt=\"Open In Colab\"/></a>"
      ]
    },
    {
      "cell_type": "code",
      "execution_count": null,
      "metadata": {
        "id": "3LOvHdsXYeyb"
      },
      "outputs": [],
      "source": []
    },
    {
      "cell_type": "markdown",
      "source": [
        "challenge question"
      ],
      "metadata": {
        "id": "3TZEaTV7Ygt8"
      }
    },
    {
      "cell_type": "code",
      "source": [
        "L=[\"RAM\",1,\"SHYAM\",2,\"AMAN\",3]\n",
        "L1=[]\n",
        "L2=[]\n",
        "for i in L:\n",
        "  try:\n",
        "    _ = int(i)\n",
        "    L1.append(i)\n",
        "  except:\n",
        "    L2.append(i)\n",
        "L1.sort()\n",
        "L2.sort()\n",
        "L3 = L1+L2\n",
        "print(L3)\n",
        ""
      ],
      "metadata": {
        "colab": {
          "base_uri": "https://localhost:8080/"
        },
        "id": "EGVsVeeiYjOU",
        "outputId": "5b59dc98-adba-4ff7-f5b1-0c85af8af39b"
      },
      "execution_count": 6,
      "outputs": [
        {
          "output_type": "stream",
          "name": "stdout",
          "text": [
            "[1, 2, 3, 'AMAN', 'RAM', 'SHYAM']\n"
          ]
        }
      ]
    }
  ]
}